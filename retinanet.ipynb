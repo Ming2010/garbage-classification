{
 "cells": [
  {
   "cell_type": "markdown",
   "metadata": {
    "execution": {
     "iopub.execute_input": "2022-06-30T13:29:43.022988Z",
     "iopub.status.busy": "2022-06-30T13:29:43.022585Z",
     "iopub.status.idle": "2022-06-30T13:29:45.162033Z",
     "shell.execute_reply": "2022-06-30T13:29:45.161039Z",
     "shell.execute_reply.started": "2022-06-30T13:29:43.022908Z"
    }
   },
   "source": [
    "# Data preparation"
   ]
  },
  {
   "cell_type": "code",
   "execution_count": 3,
   "metadata": {
    "execution": {
     "iopub.execute_input": "2022-06-30T13:29:45.839312Z",
     "iopub.status.busy": "2022-06-30T13:29:45.838981Z",
     "iopub.status.idle": "2022-06-30T13:30:18.355659Z",
     "shell.execute_reply": "2022-06-30T13:30:18.354594Z",
     "shell.execute_reply.started": "2022-06-30T13:29:45.839271Z"
    }
   },
   "outputs": [],
   "source": [
    "# ! git clone https://github.com/yhenon/pytorch-retinanet.git\n",
    "# ! pip install pycocotools"
   ]
  },
  {
   "cell_type": "code",
   "execution_count": 4,
   "metadata": {
    "execution": {
     "iopub.execute_input": "2022-06-30T13:30:18.357948Z",
     "iopub.status.busy": "2022-06-30T13:30:18.357573Z",
     "iopub.status.idle": "2022-06-30T13:30:21.429955Z",
     "shell.execute_reply": "2022-06-30T13:30:21.429000Z",
     "shell.execute_reply.started": "2022-06-30T13:30:18.357888Z"
    }
   },
   "outputs": [],
   "source": [
    "import os\n",
    "import re\n",
    "import cv2\n",
    "import time\n",
    "import numpy as np\n",
    "import pandas as pd\n",
    "import json\n",
    "from sklearn.model_selection import train_test_split\n",
    "from PIL import Image, ImageDraw\n",
    "\n",
    "\n",
    "import torch\n",
    "import torch.optim as optim\n",
    "import torchvision.transforms as T\n",
    "from torchvision.utils import make_grid \n",
    "from torch.utils.data import DataLoader, Dataset\n",
    "\n",
    "from retinanet import model\n",
    "from retinanet.dataloader import collater, Resizer, Augmenter, Normalizer, UnNormalizer, CSVDataset\n",
    "import seaborn as sns\n",
    "from matplotlib import pyplot as plt\n",
    "%matplotlib inline"
   ]
  },
  {
   "cell_type": "code",
   "execution_count": 4,
   "metadata": {},
   "outputs": [],
   "source": [
    "device = torch.device('cuda') if torch.cuda.is_available() else torch.device('cpu')"
   ]
  },
  {
   "cell_type": "code",
   "execution_count": 5,
   "metadata": {
    "execution": {
     "iopub.execute_input": "2022-06-30T13:30:21.431713Z",
     "iopub.status.busy": "2022-06-30T13:30:21.431366Z",
     "iopub.status.idle": "2022-06-30T13:30:21.568337Z",
     "shell.execute_reply": "2022-06-30T13:30:21.567404Z",
     "shell.execute_reply.started": "2022-06-30T13:30:21.431656Z"
    }
   },
   "outputs": [],
   "source": [
    "# load annotation\n",
    "path_to_anno = './data/data/annotations.json'\n",
    "\n",
    "with open(path_to_anno) as f:\n",
    "    data = json.load(f)"
   ]
  },
  {
   "cell_type": "code",
   "execution_count": 1,
   "metadata": {},
   "outputs": [],
   "source": [
    "classes_req = ['Bottle', 'Can', 'Cup', 'Paper']\n",
    "classes = {}\n",
    "classes_id = {}\n",
    "\n",
    "for i in data['categories']:\n",
    "    if(i['supercategory'] in classes_req):\n",
    "        classes[i['id']] = i['name']"
   ]
  },
  {
   "cell_type": "code",
   "execution_count": 2,
   "metadata": {},
   "outputs": [],
   "source": [
    "# load data\n",
    "images_data = {}\n",
    "\n",
    "for i in data['images']:\n",
    "    temp = {\n",
    "      'file_n': '../input/tacotrashdataset/data/'+i['file_name'],\n",
    "      'width': i['width'],\n",
    "      'height': i['height'],\n",
    "    }\n",
    "    images_data[i['id']] = temp"
   ]
  },
  {
   "cell_type": "code",
   "execution_count": 3,
   "metadata": {},
   "outputs": [],
   "source": [
    "#Check if bounding box is valid\n",
    "def is_valid(x_min, y_min, x_max, y_max, width, height):\n",
    "    return (x_min in range(0, width)) and (x_max in range(0, width)) and (y_min in range(0, height)) and (y_max in range(0, width))\n",
    "\n",
    "\n",
    "filter_class = {\n",
    "    'Other plastic bottle': \"Bottle\", \n",
    "    'Clear plastic bottle': \"Bottle\",  \n",
    "    'Glass bottle': 'Bottle',\n",
    "    'Food Can': 'Can', \n",
    "    'Aerosol': 'Can', \n",
    "    'Drink can': 'Can', \n",
    "    'Paper cup': 'Cup', \n",
    "    'Disposable plastic cup': 'Cup', \n",
    "    'Foam cup': 'Cup', \n",
    "    'Glass cup': 'Cup', \n",
    "    'Other plastic cup': 'Cup', \n",
    "    'Magazine paper': 'Paper', \n",
    "    'Tissues': 'Paper', \n",
    "    'Wrapping paper': 'Paper', \n",
    "    'Normal paper': 'Paper'}\n",
    "\n",
    "    \n",
    "# Group images with their data\n",
    "images_with_anno = []\n",
    "not_valid=0\n",
    "for i in data['annotations']:\n",
    "    if(i['category_id'] in classes.keys()):\n",
    "        img_d = images_data[i['image_id']]\n",
    "        x_min= int(i['bbox'][0])\n",
    "        y_min= int(i['bbox'][1])\n",
    "        x_max= int(i['bbox'][0]+i['bbox'][2])\n",
    "        y_max= int(i['bbox'][1]+i['bbox'][3])\n",
    "        valid = is_valid(x_min, y_min, x_max, y_max, img_d['width'], img_d['height'])\n",
    "        temp = {\n",
    "            'image_name': img_d['file_n'],\n",
    "            'x_min': int(i['bbox'][0]),\n",
    "            'y_min': int(i['bbox'][1]),\n",
    "            'x_max': int(i['bbox'][0]+i['bbox'][2]),\n",
    "            'y_max': int(i['bbox'][1]+i['bbox'][3]),\n",
    "            'class_name': filter_class[classes[i['category_id']]],\n",
    "        }\n",
    "    if(valid):\n",
    "        images_with_anno.append(temp)\n",
    "    else:\n",
    "        not_valid+=1\n",
    "\n",
    "print(\"Complete dict generated\", \"\\nFound not valid: \", not_valid)\n",
    "print()\n"
   ]
  },
  {
   "cell_type": "code",
   "execution_count": 6,
   "metadata": {
    "execution": {
     "iopub.execute_input": "2022-06-30T13:30:21.570857Z",
     "iopub.status.busy": "2022-06-30T13:30:21.570503Z",
     "iopub.status.idle": "2022-06-30T13:30:21.580214Z",
     "shell.execute_reply": "2022-06-30T13:30:21.579243Z",
     "shell.execute_reply.started": "2022-06-30T13:30:21.570820Z"
    }
   },
   "outputs": [],
   "source": [
    "# convert to df\n",
    "df = pd.DataFrame(images_with_anno)\n",
    "train_df, test_df = train_test_split(df, test_size=0.2)\n",
    "train_df.to_csv('annotations.csv', index=False, header=None)\n",
    "test_df.to_csv('test_annotations.csv', index=False, header=None)"
   ]
  },
  {
   "cell_type": "code",
   "execution_count": 10,
   "metadata": {
    "execution": {
     "iopub.execute_input": "2022-06-30T13:30:21.826426Z",
     "iopub.status.busy": "2022-06-30T13:30:21.826049Z",
     "iopub.status.idle": "2022-06-30T13:30:21.834862Z",
     "shell.execute_reply": "2022-06-30T13:30:21.833972Z",
     "shell.execute_reply.started": "2022-06-30T13:30:21.826387Z"
    }
   },
   "outputs": [],
   "source": [
    "# Normalize data\n",
    "with open('classes.csv', 'w') as f:\n",
    "    for i, (class_name) in enumerate(train_df['class_name'].unique()):\n",
    "        f.write(f'{class_name},{i}\\n')\n",
    "train_data = CSVDataset('./annotations.csv', './classes.csv', transform = T.Compose([Augmenter(), Normalizer(), Resizer()]))\n",
    "test_data = CSVDataset('./test_annotations.csv', './classes.csv', transform = T.Compose([Augmenter(), Normalizer(), Resizer()]))"
   ]
  },
  {
   "cell_type": "code",
   "execution_count": 13,
   "metadata": {
    "execution": {
     "iopub.execute_input": "2022-06-30T13:30:21.862493Z",
     "iopub.status.busy": "2022-06-30T13:30:21.862087Z",
     "iopub.status.idle": "2022-06-30T13:30:21.868894Z",
     "shell.execute_reply": "2022-06-30T13:30:21.867878Z",
     "shell.execute_reply.started": "2022-06-30T13:30:21.862454Z"
    }
   },
   "outputs": [],
   "source": [
    "# create dataloader\n",
    "train_data_loader = DataLoader(train_data, batch_size = 6, shuffle = True, num_workers = 4, collate_fn = collater)\n",
    "test_data_loader = DataLoader(test_data, batch_size = 1, shuffle = True, num_workers = 4, collate_fn = collater)"
   ]
  },
  {
   "cell_type": "markdown",
   "metadata": {},
   "source": [
    "# Training"
   ]
  },
  {
   "cell_type": "code",
   "execution_count": 17,
   "metadata": {
    "execution": {
     "iopub.execute_input": "2022-06-30T13:36:32.992841Z",
     "iopub.status.busy": "2022-06-30T13:36:32.992479Z",
     "iopub.status.idle": "2022-06-30T13:36:42.683054Z",
     "shell.execute_reply": "2022-06-30T13:36:42.682128Z",
     "shell.execute_reply.started": "2022-06-30T13:36:32.992808Z"
    }
   },
   "outputs": [],
   "source": [
    "# Initialize model\n",
    "retinanet = model.resnet50(num_classes = 4, pretrained = True)"
   ]
  },
  {
   "cell_type": "code",
   "execution_count": 18,
   "metadata": {
    "execution": {
     "iopub.execute_input": "2022-06-30T13:36:45.145322Z",
     "iopub.status.busy": "2022-06-30T13:36:45.144999Z",
     "iopub.status.idle": "2022-06-30T13:36:45.217992Z",
     "shell.execute_reply": "2022-06-30T13:36:45.217022Z",
     "shell.execute_reply.started": "2022-06-30T13:36:45.145292Z"
    }
   },
   "outputs": [],
   "source": [
    "optimizer = torch.optim.Adam(retinanet.parameters(), lr = 0.0001)\n",
    "# Learning Rate Scheduler\n",
    "#lr_scheduler = torch.optim.lr_scheduler.StepLR(optimizer, step_size = 5, gamma=0.5)\n",
    "retinanet.to(device)"
   ]
  },
  {
   "cell_type": "code",
   "execution_count": 20,
   "metadata": {
    "execution": {
     "iopub.execute_input": "2022-06-30T13:36:58.602446Z",
     "iopub.status.busy": "2022-06-30T13:36:58.602130Z",
     "iopub.status.idle": "2022-06-30T13:36:58.609642Z",
     "shell.execute_reply": "2022-06-30T13:36:58.608770Z",
     "shell.execute_reply.started": "2022-06-30T13:36:58.602416Z"
    }
   },
   "outputs": [],
   "source": [
    "def valid_one_epoch(ver_no, valid_data_loader):\n",
    "    \n",
    "    print(\"Validation - Started\")\n",
    "    st = time.time()\n",
    "    \n",
    "    epoch_loss = []\n",
    "\n",
    "    for iter_num, data in enumerate(valid_data_loader):\n",
    "                \n",
    "        with torch.no_grad():\n",
    "            \n",
    "            # Forward\n",
    "            classification_loss, regression_loss = retinanet([data['img'].cuda().float(), data['annot'].cuda().float()])\n",
    "\n",
    "            # Calculating Loss\n",
    "            classification_loss = classification_loss.mean()\n",
    "            regression_loss = regression_loss.mean()\n",
    "            loss = classification_loss + regression_loss\n",
    "\n",
    "            #Epoch Loss\n",
    "            epoch_loss.append(float(loss))\n",
    "            \n",
    "            if(iter_num%10==0):\n",
    "                print(\n",
    "                'Iteration: {} | Classification loss: {:1.5f} | Regression loss: {:1.5f} | Running loss: {:1.5f}'.format(\n",
    "                    iter_num, float(classification_loss), float(regression_loss), np.mean(epoch_loss)))\n",
    "            \n",
    "\n",
    "            del classification_loss\n",
    "            del regression_loss\n",
    "        \n",
    "    et = time.time()\n",
    "    print(\"\\n Total Time - {}\\n\".format(int(et - st)))\n",
    "    \n",
    "    # Save Model after each epoch\n",
    "    torch.save(retinanet, \"retinanet_gwd\"+str(ver_no)+\".pt\")\n",
    "    "
   ]
  },
  {
   "cell_type": "code",
   "execution_count": 22,
   "metadata": {
    "execution": {
     "iopub.execute_input": "2022-06-30T13:37:12.351632Z",
     "iopub.status.busy": "2022-06-30T13:37:12.351296Z",
     "iopub.status.idle": "2022-06-30T14:33:15.777878Z",
     "shell.execute_reply": "2022-06-30T14:33:15.776871Z",
     "shell.execute_reply.started": "2022-06-30T13:37:12.351600Z"
    }
   },
   "outputs": [],
   "source": [
    "# training\n",
    "epochs = 5\n",
    "for epoch in range(epochs):\n",
    "    train_one_epoch(epoch, train_data_loader)\n",
    "#     valid_one_epoch(epoch, test_data_loader)"
   ]
  },
  {
   "cell_type": "code",
   "execution_count": 23,
   "metadata": {
    "execution": {
     "iopub.execute_input": "2022-06-30T14:35:18.165344Z",
     "iopub.status.busy": "2022-06-30T14:35:18.164996Z",
     "iopub.status.idle": "2022-06-30T14:38:41.684856Z",
     "shell.execute_reply": "2022-06-30T14:38:41.683885Z",
     "shell.execute_reply.started": "2022-06-30T14:35:18.165310Z"
    }
   },
   "outputs": [],
   "source": [
    "valid_one_epoch(epoch, test_data_loader)"
   ]
  },
  {
   "cell_type": "code",
   "execution_count": 24,
   "metadata": {
    "execution": {
     "iopub.execute_input": "2022-06-30T14:38:45.959799Z",
     "iopub.status.busy": "2022-06-30T14:38:45.959314Z",
     "iopub.status.idle": "2022-06-30T14:38:53.626842Z",
     "shell.execute_reply": "2022-06-30T14:38:53.625954Z",
     "shell.execute_reply.started": "2022-06-30T14:38:45.959750Z"
    }
   },
   "outputs": [],
   "source": [
    "### Sample Results\n",
    "retinanet.eval()\n",
    "unnormalize = UnNormalizer()\n",
    "b = []\n",
    "\n",
    "for iter_num, data in enumerate(test_data_loader):\n",
    "    \n",
    "    # Getting Predictions\n",
    "    scores, classification, transformed_anchors = retinanet(data['img'].cuda().float())\n",
    "    b.append(data['img'].shape)\n",
    "#     print(scores, classification, transformed_anchors)\n",
    "    \n",
    "    idxs = np.where(scores.cpu()>0.3)\n",
    "    img = np.array(255 * unnormalize(data['img'][0, :, :, :])).copy()\n",
    "    \n",
    "    img[img<0] = 0\n",
    "    img[img>255] = 255\n",
    "\n",
    "    img = np.transpose(img, (1, 2, 0))\n",
    "\n",
    "    img = cv2.cvtColor(img.astype(np.uint8), cv2.COLOR_BGR2RGB)\n",
    "    \n",
    "    fig, ax = plt.subplots(1, 1, figsize=(16, 8))\n",
    "    \n",
    "    for j in range(idxs[0].shape[0]):\n",
    "        bbox = transformed_anchors[idxs[0][j], :]\n",
    "        x1 = int(bbox[0])\n",
    "        y1 = int(bbox[1])\n",
    "        x2 = int(bbox[2])\n",
    "        y2 = int(bbox[3])\n",
    "        b.append((x1,y1,x2,y2))\n",
    "\n",
    "        cv2.rectangle(img, (x1, y1), (x2, y2), color = (0, 0, 255), thickness = 5)\n",
    "        \n",
    "    ax.imshow(img)\n",
    "    \n",
    "    break"
   ]
  },
  {
   "cell_type": "markdown",
   "metadata": {},
   "source": [
    "# Predict"
   ]
  },
  {
   "cell_type": "code",
   "execution_count": 25,
   "metadata": {
    "execution": {
     "iopub.execute_input": "2022-06-30T14:38:53.628773Z",
     "iopub.status.busy": "2022-06-30T14:38:53.628400Z",
     "iopub.status.idle": "2022-06-30T14:38:53.633156Z",
     "shell.execute_reply": "2022-06-30T14:38:53.632350Z",
     "shell.execute_reply.started": "2022-06-30T14:38:53.628728Z"
    }
   },
   "outputs": [],
   "source": [
    "import skimage.io\n",
    "import skimage.transform\n",
    "import skimage.color\n",
    "import skimage"
   ]
  },
  {
   "cell_type": "code",
   "execution_count": 26,
   "metadata": {
    "execution": {
     "iopub.execute_input": "2022-06-30T14:39:02.957417Z",
     "iopub.status.busy": "2022-06-30T14:39:02.957099Z",
     "iopub.status.idle": "2022-06-30T14:39:02.966135Z",
     "shell.execute_reply": "2022-06-30T14:39:02.964969Z",
     "shell.execute_reply.started": "2022-06-30T14:39:02.957387Z"
    }
   },
   "outputs": [],
   "source": [
    "# img_transforms  = T.Compose([Augmenter(), Normalizer(), Resizer()])\n",
    "def do_transforms(image):\n",
    "    \n",
    "    #Normalizer\n",
    "    s_mean = np.array([[[0.485, 0.456, 0.406]]])\n",
    "    s_std = np.array([[[0.229, 0.224, 0.225]]])\n",
    "    image = (image.astype(np.float32)-s_mean)/s_std\n",
    "    \n",
    "    #resize\n",
    "    min_side=608\n",
    "    max_side=1024\n",
    "    rows, cols, cns = image.shape\n",
    "    smallest_side = min(rows, cols)\n",
    "    scale = min_side / smallest_side\n",
    "    largest_side = max(rows, cols)\n",
    "    \n",
    "    if largest_side * scale > max_side:\n",
    "        scale = max_side / largest_side\n",
    "    image = skimage.transform.resize(image, (int(round(rows*scale)), int(round((cols*scale)))))\n",
    "    rows, cols, cns = image.shape\n",
    "    pad_w = 32 - rows%32\n",
    "    pad_h = 32 - cols%32\n",
    "    \n",
    "    new_image = np.zeros((rows + pad_w, cols + pad_h, cns)).astype(np.float32)\n",
    "    new_image[:rows, :cols, :] = image.astype(np.float32)\n",
    "    \n",
    "    return torch.from_numpy(new_image)\n"
   ]
  },
  {
   "cell_type": "code",
   "execution_count": 27,
   "metadata": {
    "execution": {
     "iopub.execute_input": "2022-06-30T14:39:09.027889Z",
     "iopub.status.busy": "2022-06-30T14:39:09.027519Z",
     "iopub.status.idle": "2022-06-30T14:39:09.038767Z",
     "shell.execute_reply": "2022-06-30T14:39:09.037899Z",
     "shell.execute_reply.started": "2022-06-30T14:39:09.027855Z"
    }
   },
   "outputs": [],
   "source": [
    "def show_pred_on_image(path, model, thres = 0.8):\n",
    "    model.eval()\n",
    "    unnormalize = UnNormalizer()\n",
    "    im = Image.open(path).convert('RGB')\n",
    "#     im = im / 255.\n",
    "    img = do_transforms(np.array(im)/255.)\n",
    "    img = img.permute(2,0,1)\n",
    "    img = img.unsqueeze(0)\n",
    "    print(img.shape)\n",
    "    st=time.time()\n",
    "    scores, classification, transformed_anchors = model(img.cuda().float())\n",
    "    et=time.time()\n",
    "    print(\"\\n Total Time - {}\\n\".format((et - st)))\n",
    "    idxs = np.where(scores.cpu()>thres)\n",
    "    img = np.array(255 * unnormalize(img[0, :, :, :])).copy()\n",
    "    \n",
    "    img[img<0] = 0\n",
    "    img[img>255] = 255\n",
    "\n",
    "    img = np.transpose(img, (1, 2, 0))\n",
    "\n",
    "    img = cv2.cvtColor(img.astype(np.uint8), cv2.COLOR_BGR2RGB)\n",
    "    \n",
    "    fig, ax = plt.subplots(1, 1, figsize=(16, 8))\n",
    "    k = 0\n",
    "    for j in range(idxs[0].shape[0]):\n",
    "        bbox = transformed_anchors[idxs[0][j], :]\n",
    "        x1 = int(bbox[0])\n",
    "        y1 = int(bbox[1])\n",
    "        x2 = int(bbox[2])\n",
    "        y2 = int(bbox[3])\n",
    "#         b.append((x1,y1,x2,y2))\n",
    "\n",
    "        cv2.rectangle(img, (x1, y1), (x2, y2), color = (0, 0, 255), thickness = 5)\n",
    "        \n",
    "    ax.imshow(img)"
   ]
  },
  {
   "cell_type": "code",
   "execution_count": 30,
   "metadata": {
    "execution": {
     "iopub.execute_input": "2022-06-30T14:39:54.499511Z",
     "iopub.status.busy": "2022-06-30T14:39:54.499182Z",
     "iopub.status.idle": "2022-06-30T14:39:56.485631Z",
     "shell.execute_reply": "2022-06-30T14:39:56.484691Z",
     "shell.execute_reply.started": "2022-06-30T14:39:54.499479Z"
    }
   },
   "outputs": [],
   "source": [
    "!wget https://img.etimg.com/thumb/msid-76554379,width-1200,height-900/news/politics-and-nation/ladakh-orders-ban-on-use-of-plastic-water-bottles-in-govt-offices-other-institutions.jpg"
   ]
  },
  {
   "cell_type": "code",
   "execution_count": 31,
   "metadata": {
    "execution": {
     "iopub.execute_input": "2022-06-30T14:40:02.144156Z",
     "iopub.status.busy": "2022-06-30T14:40:02.143800Z",
     "iopub.status.idle": "2022-06-30T14:40:02.798078Z",
     "shell.execute_reply": "2022-06-30T14:40:02.795790Z",
     "shell.execute_reply.started": "2022-06-30T14:40:02.144123Z"
    }
   },
   "outputs": [],
   "source": [
    "show_pred_on_image('./ladakh-orders-ban-on-use-of-plastic-water-bottles-in-govt-offices-other-institutions.jpg', retinanet, thres=0.3)"
   ]
  },
  {
   "cell_type": "code",
   "execution_count": 32,
   "metadata": {
    "execution": {
     "iopub.execute_input": "2022-06-30T14:40:06.481049Z",
     "iopub.status.busy": "2022-06-30T14:40:06.480716Z",
     "iopub.status.idle": "2022-06-30T14:40:08.514743Z",
     "shell.execute_reply": "2022-06-30T14:40:08.513781Z",
     "shell.execute_reply.started": "2022-06-30T14:40:06.481017Z"
    }
   },
   "outputs": [],
   "source": [
    "!wget https://5.imimg.com/data5/QZ/UY/SL/SELLER-3541922/coke-can-500x500.jpg"
   ]
  },
  {
   "cell_type": "code",
   "execution_count": 33,
   "metadata": {
    "execution": {
     "iopub.execute_input": "2022-06-30T14:40:12.125229Z",
     "iopub.status.busy": "2022-06-30T14:40:12.124878Z",
     "iopub.status.idle": "2022-06-30T14:40:12.777316Z",
     "shell.execute_reply": "2022-06-30T14:40:12.776545Z",
     "shell.execute_reply.started": "2022-06-30T14:40:12.125195Z"
    }
   },
   "outputs": [],
   "source": [
    "# show_pred_on_image('./coke-can-500x500.jpg', retinanet, thres=0.2)\n",
    "show_pred_on_image('./coke-can-500x500.jpg', retinanet, thres=0.3)"
   ]
  },
  {
   "cell_type": "code",
   "execution_count": 34,
   "metadata": {
    "execution": {
     "iopub.execute_input": "2022-06-30T14:40:17.804489Z",
     "iopub.status.busy": "2022-06-30T14:40:17.804123Z",
     "iopub.status.idle": "2022-06-30T14:40:19.512299Z",
     "shell.execute_reply": "2022-06-30T14:40:19.511264Z",
     "shell.execute_reply.started": "2022-06-30T14:40:17.804455Z"
    }
   },
   "outputs": [],
   "source": [
    "!wget https://static3.bigstockphoto.com/7/3/2/large1500/237369025.jpg"
   ]
  },
  {
   "cell_type": "code",
   "execution_count": 35,
   "metadata": {
    "execution": {
     "iopub.execute_input": "2022-06-30T14:40:23.826327Z",
     "iopub.status.busy": "2022-06-30T14:40:23.826002Z",
     "iopub.status.idle": "2022-06-30T14:40:24.578370Z",
     "shell.execute_reply": "2022-06-30T14:40:24.577571Z",
     "shell.execute_reply.started": "2022-06-30T14:40:23.826294Z"
    }
   },
   "outputs": [],
   "source": [
    "show_pred_on_image('237369025.jpg', retinanet, thres=0.3)"
   ]
  },
  {
   "cell_type": "code",
   "execution_count": 15,
   "metadata": {},
   "outputs": [
    {
     "data": {
      "image/png": "[encoded data removed]",
      "text/plain": [
       "<Figure size 432x288 with 1 Axes>"
      ]
     },
     "metadata": {
      "needs_background": "light"
     },
     "output_type": "display_data"
    }
   ],
   "source": [
    "plt.plot([1, 2, 3, 4, 5], [0.58077, 0.54235, 0.45668, 0.44958, 0.34280], label=\"train loss\")\n",
    "plt.plot([1, 2, 3, 4, 5], [0.76508, 0.74814, 0.51650, 0.45276, 0.49432], label=\"valid loss\")\n",
    "plt.legend()\n",
    "plt.show()"
   ]
  },
  {
   "cell_type": "code",
   "execution_count": null,
   "metadata": {},
   "outputs": [],
   "source": []
  }
 ],
 "metadata": {
  "kernelspec": {
   "display_name": "Python 3",
   "language": "python",
   "name": "python3"
  },
  "language_info": {
   "codemirror_mode": {
    "name": "ipython",
    "version": 3
   },
   "file_extension": ".py",
   "mimetype": "text/x-python",
   "name": "python",
   "nbconvert_exporter": "python",
   "pygments_lexer": "ipython3",
   "version": "3.9.7"
  }
 },
 "nbformat": 4,
 "nbformat_minor": 4
}
